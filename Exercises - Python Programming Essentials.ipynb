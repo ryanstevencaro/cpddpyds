{
 "cells": [
  {
   "cell_type": "code",
   "execution_count": 1,
   "metadata": {
    "collapsed": true
   },
   "outputs": [],
   "source": [
    "def select_second(L):\n",
    "    \"\"\"Return the second element of the given list. If the list has no second\n",
    "    element, return None.\n",
    "    \"\"\"\n",
    "    pass"
   ]
  },
  {
   "cell_type": "code",
   "execution_count": 2,
   "metadata": {
    "collapsed": true
   },
   "outputs": [],
   "source": [
    "def count_negatives(nums):\n",
    "    \"\"\"Return the number of negative numbers in the given list.\n",
    "    \n",
    "    >>> count_negatives([5, -1, -2, 0, 3])\n",
    "    2\n",
    "    \"\"\"\n",
    "    pass"
   ]
  },
  {
   "cell_type": "code",
   "execution_count": 3,
   "metadata": {
    "collapsed": true
   },
   "outputs": [],
   "source": [
    "def menu_is_boring(meals):\n",
    "    \"\"\"Given a list of meals served over some period of time, return True if the\n",
    "    same meal has ever been served two days in a row, and False otherwise.\n",
    "    \"\"\"\n",
    "    pass"
   ]
  },
  {
   "cell_type": "code",
   "execution_count": 5,
   "metadata": {
    "collapsed": false
   },
   "outputs": [],
   "source": [
    "# Letter count. Count the occurrence of each letter in a string and save the result in a dictionary. \n",
    "# HINT: d.get(key, default) might be useful\n",
    "\n",
    "# Sample run: \n",
    "# Enter a string: “absdasdasfasfa” \n",
    "# Output: {'a': 5, 's': 4, 'b': 1, 'd': 2, 'f': 2} \n",
    "# Enter a string: “” \n",
    "# Output{}"
   ]
  },
  {
   "cell_type": "code",
   "execution_count": 8,
   "metadata": {
    "collapsed": false
   },
   "outputs": [],
   "source": [
    "# Unite Union. Write a function that takes one or more arrays and returns a new array of unique values in \n",
    "# the order of the original provided arrays. In other words, all values present from all arrays should be \n",
    "# included in their original order, but with no duplicates in the final array. \n",
    "\n",
    "# The unique numbers should be sorted by their original order, (the final array should not be sorted in numerical order)\n",
    "\n",
    "# unite_unique([1, 2], [3, 4]) \n",
    "# Output: [1, 2, 3, 4] \n",
    "# unite_unique([],[1, 2, 1, 2],[2, 1, 1, 2, 1]) \n",
    "# Output: [1, 2] \n",
    "# unite_unique([1, 3, 2], [5, 2, 1, 4], [2, 1]) \n",
    "# Output: [1, 3, 2, 5, 4] \n",
    "# unite_unique([], [4, \"a\", 2], []) \n",
    "# Output: [4, \"a\", 2]"
   ]
  },
  {
   "cell_type": "code",
   "execution_count": 9,
   "metadata": {
    "collapsed": true
   },
   "outputs": [],
   "source": [
    "# There is a saying that \"Data scientists spend 80% of their time cleaning data, and 20% of their time complaining about cleaning data.\" \n",
    "# Let's see if you can write a function to help clean zip code data. \n",
    "# Given a string, it should return whether or not that string represents a valid zip code. \n",
    "# For our purposes, a valid zip code is any string consisting of exactly 4 digits.\n",
    "\n",
    "# HINT: `str` has a method that will be useful here. Use `help(str)` to review a list of string methods."
   ]
  },
  {
   "cell_type": "code",
   "execution_count": 10,
   "metadata": {
    "collapsed": true
   },
   "outputs": [],
   "source": [
    "def word_search(doc_list, keyword):\n",
    "    \"\"\"\n",
    "    Takes a list of documents (each document is a string) and a keyword. \n",
    "    Returns list of the index values into the original list for all documents \n",
    "    containing the keyword.\n",
    "\n",
    "    Example:\n",
    "    doc_list = [\"The Learn Python Challenge Casino.\", \"They bought a car\", \"Casinoville\"]\n",
    "    >>> word_search(doc_list, 'casino')\n",
    "    >>> [0]\n",
    "    \"\"\"\n",
    "    pass"
   ]
  }
 ],
 "metadata": {
  "kernelspec": {
   "display_name": "Python [Root]",
   "language": "python",
   "name": "Python [Root]"
  },
  "language_info": {
   "codemirror_mode": {
    "name": "ipython",
    "version": 3
   },
   "file_extension": ".py",
   "mimetype": "text/x-python",
   "name": "python",
   "nbconvert_exporter": "python",
   "pygments_lexer": "ipython3",
   "version": "3.5.1"
  }
 },
 "nbformat": 4,
 "nbformat_minor": 0
}
